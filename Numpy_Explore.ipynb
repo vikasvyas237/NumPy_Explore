{
 "cells": [
  {
   "cell_type": "markdown",
   "id": "0814b731",
   "metadata": {},
   "source": [
    "## This is a full **NumPy Exploration**"
   ]
  },
  {
   "cell_type": "code",
   "execution_count": 34,
   "id": "3a9f92a4",
   "metadata": {},
   "outputs": [],
   "source": [
    "import numpy as np #this is a standard naming convention"
   ]
  },
  {
   "cell_type": "markdown",
   "id": "4a38f2e4",
   "metadata": {},
   "source": [
    "**List can have variable datatypes but Array can only have one kind of a datatype**"
   ]
  },
  {
   "cell_type": "code",
   "execution_count": 35,
   "id": "071e17ca",
   "metadata": {},
   "outputs": [
    {
     "name": "stdout",
     "output_type": "stream",
     "text": [
      "[10, 20, 30, 40, 50]\n",
      "<class 'list'>\n"
     ]
    }
   ],
   "source": [
    "integers_list = [10,20,30,40,50]\n",
    "print(integers_list)\n",
    "print(type(integers_list))"
   ]
  },
  {
   "cell_type": "markdown",
   "id": "8390e745",
   "metadata": {},
   "source": [
    "**Converting a list to a NumPy array**"
   ]
  },
  {
   "cell_type": "code",
   "execution_count": 36,
   "id": "5ae414df",
   "metadata": {},
   "outputs": [
    {
     "name": "stdout",
     "output_type": "stream",
     "text": [
      "[10 20 30 40 50]\n",
      "<class 'numpy.ndarray'>\n"
     ]
    }
   ],
   "source": [
    "integers = np.array(integers_list) #this is the method to convert list into a NumPy array\n",
    "print(integers)\n",
    "print(type(integers))"
   ]
  },
  {
   "cell_type": "markdown",
   "id": "32af625f",
   "metadata": {},
   "source": [
    "**Accessing the values of the array**"
   ]
  },
  {
   "cell_type": "code",
   "execution_count": 37,
   "id": "b9404978",
   "metadata": {},
   "outputs": [
    {
     "name": "stdout",
     "output_type": "stream",
     "text": [
      "10\n",
      "50\n"
     ]
    }
   ],
   "source": [
    "print(integers[0]) #this will print the zeroth position value of the array\n",
    "print(integers[-1]) #this will print the last element of the array"
   ]
  },
  {
   "cell_type": "markdown",
   "id": "2986f3e5",
   "metadata": {},
   "source": [
    "**Changing the value of the index and changing the type**"
   ]
  },
  {
   "cell_type": "code",
   "execution_count": 38,
   "id": "4e765b50",
   "metadata": {},
   "outputs": [
    {
     "name": "stdout",
     "output_type": "stream",
     "text": [
      "[21 20 30 40 50]\n",
      "int64\n",
      "\n",
      "\n",
      "[21 20 30 40 50]\n",
      "40\n",
      "5\n"
     ]
    }
   ],
   "source": [
    "integers[0] = 21.5\n",
    "print(integers) #this is convert the integer value as array can only have one datatype\n",
    "print((integers.dtype)) #this is to check the data type of the values of the array\n",
    "print('\\n')\n",
    "\n",
    "integers_small = np.array(integers, dtype = np.int8) #this changes the type of the values \n",
    "                                                     #to int8\n",
    "print(integers_small)\n",
    "\n",
    "print(integers.nbytes) #this is to check the number of bytes occupied by the array\n",
    "print(integers_small.nbytes) #changing the type can save a lot of memory"
   ]
  },
  {
   "cell_type": "markdown",
   "id": "b5e2af03",
   "metadata": {},
   "source": [
    "**Numpy is smart and will choose automatically a datatype for the array if we don't explicitely pass the dtype arguement**"
   ]
  },
  {
   "cell_type": "code",
   "execution_count": 39,
   "id": "fe463a4b",
   "metadata": {},
   "outputs": [
    {
     "name": "stdout",
     "output_type": "stream",
     "text": [
      "float64\n"
     ]
    }
   ],
   "source": [
    "floats = np.array([1.1,1.2,1.3,1.4])\n",
    "print(floats.dtype)"
   ]
  },
  {
   "cell_type": "markdown",
   "id": "fffe727a",
   "metadata": {},
   "source": [
    "**1D Array = Vector, 2D Array = Matrix 3D Array = Tensor**"
   ]
  },
  {
   "cell_type": "code",
   "execution_count": 40,
   "id": "d35c086d",
   "metadata": {},
   "outputs": [
    {
     "name": "stdout",
     "output_type": "stream",
     "text": [
      "[[ 1  2  3  4  5]\n",
      " [ 6  7  8  9 10]]\n"
     ]
    }
   ],
   "source": [
    "numbers = np.array([[1,2,3,4,5],[6,7,8,9,10]]) #this is a 2D array [[a,b],[c,d]]\n",
    "print(numbers)"
   ]
  },
  {
   "cell_type": "markdown",
   "id": "eb8149a5",
   "metadata": {},
   "source": [
    "**Accessing the value of a 2D array**"
   ]
  },
  {
   "cell_type": "code",
   "execution_count": 41,
   "id": "0f966d8c",
   "metadata": {
    "scrolled": true
   },
   "outputs": [
    {
     "name": "stdout",
     "output_type": "stream",
     "text": [
      "1\n",
      "9\n"
     ]
    }
   ],
   "source": [
    "print(numbers[0,0]) #will print the first value of the first array of a 2D array\n",
    "print(numbers[-1,-2]) #will print the \"2nd last value\" of the \"last array\" of a 2D array"
   ]
  },
  {
   "cell_type": "markdown",
   "id": "daf23e1f",
   "metadata": {},
   "source": [
    "**Creating a tensor**"
   ]
  },
  {
   "cell_type": "code",
   "execution_count": 45,
   "id": "6366557b",
   "metadata": {},
   "outputs": [
    {
     "name": "stdout",
     "output_type": "stream",
     "text": [
      "[[[ 1  2  3]\n",
      "  [ 4  5  6]]\n",
      "\n",
      " [[ 7  8  9]\n",
      "  [10 11 12]]]\n",
      "3\n"
     ]
    }
   ],
   "source": [
    "three_d_array = np.array([[[1,2,3,],[4,5,6]],[[7,8,9],[10,11,12]]]) \n",
    "print(three_d_array)\n",
    "print(three_d_array[0,0,2]) #prints from zeroth array, and inside that the zeroth array \n",
    "                            #and 3rd element"
   ]
  },
  {
   "cell_type": "markdown",
   "id": "4f87d191",
   "metadata": {},
   "source": [
    "**Check the dimension of the array**"
   ]
  },
  {
   "cell_type": "code",
   "execution_count": 47,
   "id": "89bdf7ab",
   "metadata": {},
   "outputs": [
    {
     "data": {
      "text/plain": [
       "3"
      ]
     },
     "execution_count": 47,
     "metadata": {},
     "output_type": "execute_result"
    }
   ],
   "source": [
    "np.ndim(three_d_array)"
   ]
  },
  {
   "cell_type": "markdown",
   "id": "0ebf8cd3",
   "metadata": {},
   "source": [
    "**The list is converted to the numpy array with the most used datatype in the list**"
   ]
  },
  {
   "cell_type": "code",
   "execution_count": 49,
   "id": "0e9d1eea",
   "metadata": {},
   "outputs": [
    {
     "name": "stdout",
     "output_type": "stream",
     "text": [
      "['1' '2.1' '3.35' 'hello' 'world' 'numpy' 'array']\n",
      "<U32\n"
     ]
    }
   ],
   "source": [
    "complex_list = [1,2.1,3.35,'hello','world','numpy','array']\n",
    "complex_array = np.array(complex_list)\n",
    "\n",
    "print(complex_array) #here all the elements will become string datatypes \n",
    "print(complex_array.dtype)"
   ]
  },
  {
   "cell_type": "markdown",
   "id": "84e7dc15",
   "metadata": {},
   "source": [
    "**Tuple: It is an immutable list (the elements cannot be changed)**"
   ]
  },
  {
   "cell_type": "code",
   "execution_count": 57,
   "id": "58191ee6",
   "metadata": {},
   "outputs": [
    {
     "name": "stdout",
     "output_type": "stream",
     "text": [
      "(1, 2, 3, 4, 5)\n",
      "<class 'tuple'>\n",
      "[<class 'int'>, <class 'int'>, <class 'int'>, <class 'int'>, <class 'int'>]\n"
     ]
    }
   ],
   "source": [
    "tuple_numbers = (1,2,3,4,5)\n",
    "print(tuple_numbers)\n",
    "print(type(tuple_numbers))\n",
    "\n",
    "#map funtion returns an iterator when applied to a list or a tuple \n",
    "element_type = list(map(type, tuple_numbers))\n",
    "print(element_type)"
   ]
  },
  {
   "cell_type": "markdown",
   "id": "3b44ea96",
   "metadata": {},
   "source": [
    "**Manually creating arrays can consume time. We can create arrays by NumPy built-in methods**"
   ]
  },
  {
   "cell_type": "code",
   "execution_count": 59,
   "id": "652eece2",
   "metadata": {},
   "outputs": [
    {
     "name": "stdout",
     "output_type": "stream",
     "text": [
      "[0 1 2 3 4 5 6 7 8 9]\n",
      "[1 2 3 4 5 6 7 8 9]\n"
     ]
    }
   ],
   "source": [
    "instant_array = np.arange(10)\n",
    "print(instant_array)\n",
    "\n",
    "instant_array_1 = np.arange(1,10)\n",
    "print(instant_array_1)\n",
    "\n",
    "instant_array_set = np.arange(1,151,2)"
   ]
  },
  {
   "cell_type": "code",
   "execution_count": null,
   "id": "f4390159",
   "metadata": {},
   "outputs": [],
   "source": []
  }
 ],
 "metadata": {
  "kernelspec": {
   "display_name": "Python 3",
   "language": "python",
   "name": "python3"
  },
  "language_info": {
   "codemirror_mode": {
    "name": "ipython",
    "version": 3
   },
   "file_extension": ".py",
   "mimetype": "text/x-python",
   "name": "python",
   "nbconvert_exporter": "python",
   "pygments_lexer": "ipython3",
   "version": "3.8.8"
  }
 },
 "nbformat": 4,
 "nbformat_minor": 5
}
